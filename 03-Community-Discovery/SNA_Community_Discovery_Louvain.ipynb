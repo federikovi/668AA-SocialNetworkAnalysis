{
 "cells": [
  {
   "cell_type": "markdown",
   "metadata": {},
   "source": [
    "# Louvain"
   ]
  },
  {
   "cell_type": "code",
   "execution_count": 1,
   "metadata": {},
   "outputs": [],
   "source": [
    "import community\n",
    "import networkx as nx\n",
    "import matplotlib.pyplot as plt\n",
    "from community import community_louvain"
   ]
  },
  {
   "cell_type": "code",
   "execution_count": 2,
   "metadata": {},
   "outputs": [],
   "source": [
    "n=open(\"network.csv\", 'rb')\n",
    "net = nx.read_edgelist(\"network.csv\",create_using=nx.Graph())\n",
    "n.close()"
   ]
  },
  {
   "cell_type": "code",
   "execution_count": 3,
   "metadata": {},
   "outputs": [
    {
     "name": "stdout",
     "output_type": "stream",
     "text": [
      "partition done\n"
     ]
    }
   ],
   "source": [
    "partition = community_louvain.best_partition(net)\n",
    "print (\"partition done\")"
   ]
  },
  {
   "cell_type": "code",
   "execution_count": 4,
   "metadata": {},
   "outputs": [
    {
     "name": "stdout",
     "output_type": "stream",
     "text": [
      "12.0\n"
     ]
    }
   ],
   "source": [
    "size = float(len(set(partition.values())))\n",
    "print (str(size))\n"
   ]
  },
  {
   "cell_type": "code",
   "execution_count": 5,
   "metadata": {},
   "outputs": [],
   "source": [
    "count = 0\n",
    "\n",
    "out = open('louvainlist.txt', 'w+')\n",
    "for com in set(partition.values()):\n",
    "\n",
    "\tcount = count + 1\n",
    "\tlist_nodes = [nodes for nodes in partition.keys() if partition[nodes] == com]\n",
    "\n",
    "\tout.write(\",\".join(list_nodes) + \"\\n\")\n",
    "\n",
    "out1 = open('louvainstat.txt', 'w+')\n",
    "#out1.write('number of communities ' + str(size) + '\\n')\n",
    "\n",
    "\n",
    "out.close()   \n"
   ]
  },
  {
   "cell_type": "code",
   "execution_count": 15,
   "metadata": {},
   "outputs": [],
   "source": [
    "# Reshaping the results to make them in the same format of the other CD algorithms\n",
    "from collections import defaultdict\n",
    "coms_to_node = defaultdict(list)\n",
    "for n, c in partition.items():\n",
    "    coms_to_node[c].append(n)\n",
    "\n",
    "coms_louvain = [tuple(c) for c in coms_to_node.values()]"
   ]
  },
  {
   "cell_type": "markdown",
   "metadata": {},
   "source": [
    "## Partition Quality"
   ]
  },
  {
   "cell_type": "code",
   "execution_count": 6,
   "metadata": {},
   "outputs": [],
   "source": [
    "import sys\n",
    "reload(sys)\n",
    "sys.setdefaultencoding(\"ISO-8859-1\")\n",
    "import pquality"
   ]
  },
  {
   "cell_type": "code",
   "execution_count": 17,
   "metadata": {},
   "outputs": [],
   "source": [
    "res = pquality.pquality_summary(net, coms_louvain)"
   ]
  },
  {
   "cell_type": "code",
   "execution_count": 24,
   "metadata": {},
   "outputs": [
    {
     "data": {
      "text/html": [
       "<div>\n",
       "<style scoped>\n",
       "    .dataframe tbody tr th:only-of-type {\n",
       "        vertical-align: middle;\n",
       "    }\n",
       "\n",
       "    .dataframe tbody tr th {\n",
       "        vertical-align: top;\n",
       "    }\n",
       "\n",
       "    .dataframe thead th {\n",
       "        text-align: right;\n",
       "    }\n",
       "</style>\n",
       "<table border=\"1\" class=\"dataframe\">\n",
       "  <thead>\n",
       "    <tr style=\"text-align: right;\">\n",
       "      <th></th>\n",
       "      <th>min</th>\n",
       "      <th>max</th>\n",
       "      <th>avg</th>\n",
       "      <th>std</th>\n",
       "    </tr>\n",
       "    <tr>\n",
       "      <th>Index</th>\n",
       "      <th></th>\n",
       "      <th></th>\n",
       "      <th></th>\n",
       "      <th></th>\n",
       "    </tr>\n",
       "  </thead>\n",
       "  <tbody>\n",
       "    <tr>\n",
       "      <th>Internal Density</th>\n",
       "      <td>0.005347</td>\n",
       "      <td>0.166667</td>\n",
       "      <td>0.063728</td>\n",
       "      <td>0.054321</td>\n",
       "    </tr>\n",
       "    <tr>\n",
       "      <th>Edges inside</th>\n",
       "      <td>4.000000</td>\n",
       "      <td>46064.000000</td>\n",
       "      <td>13497.083333</td>\n",
       "      <td>15459.538714</td>\n",
       "    </tr>\n",
       "    <tr>\n",
       "      <th>Average Degree</th>\n",
       "      <td>2.000000</td>\n",
       "      <td>72.449791</td>\n",
       "      <td>38.511600</td>\n",
       "      <td>21.401352</td>\n",
       "    </tr>\n",
       "    <tr>\n",
       "      <th>FOMD</th>\n",
       "      <td>1.000000</td>\n",
       "      <td>1.000000</td>\n",
       "      <td>1.000000</td>\n",
       "      <td>0.000000</td>\n",
       "    </tr>\n",
       "    <tr>\n",
       "      <th>TPR</th>\n",
       "      <td>0.750000</td>\n",
       "      <td>0.983471</td>\n",
       "      <td>0.937660</td>\n",
       "      <td>0.066053</td>\n",
       "    </tr>\n",
       "    <tr>\n",
       "      <th>Expansion</th>\n",
       "      <td>0.250000</td>\n",
       "      <td>71.983471</td>\n",
       "      <td>34.797234</td>\n",
       "      <td>25.099734</td>\n",
       "    </tr>\n",
       "    <tr>\n",
       "      <th>Cut Ratio</th>\n",
       "      <td>0.000039</td>\n",
       "      <td>0.011334</td>\n",
       "      <td>0.005885</td>\n",
       "      <td>0.004003</td>\n",
       "    </tr>\n",
       "    <tr>\n",
       "      <th>Conductance</th>\n",
       "      <td>0.076923</td>\n",
       "      <td>0.652044</td>\n",
       "      <td>0.377723</td>\n",
       "      <td>0.188813</td>\n",
       "    </tr>\n",
       "    <tr>\n",
       "      <th>Normalized Cut</th>\n",
       "      <td>0.076927</td>\n",
       "      <td>0.668269</td>\n",
       "      <td>0.411705</td>\n",
       "      <td>0.199131</td>\n",
       "    </tr>\n",
       "    <tr>\n",
       "      <th>Maximum-ODF</th>\n",
       "      <td>1.000000</td>\n",
       "      <td>848.000000</td>\n",
       "      <td>335.083333</td>\n",
       "      <td>275.131623</td>\n",
       "    </tr>\n",
       "    <tr>\n",
       "      <th>Average-ODF</th>\n",
       "      <td>0.250000</td>\n",
       "      <td>71.983471</td>\n",
       "      <td>34.797234</td>\n",
       "      <td>25.099734</td>\n",
       "    </tr>\n",
       "    <tr>\n",
       "      <th>Flake-ODF</th>\n",
       "      <td>0.000000</td>\n",
       "      <td>0.743802</td>\n",
       "      <td>0.291854</td>\n",
       "      <td>0.257345</td>\n",
       "    </tr>\n",
       "  </tbody>\n",
       "</table>\n",
       "</div>"
      ],
      "text/plain": [
       "                       min           max           avg           std\n",
       "Index                                                               \n",
       "Internal Density  0.005347      0.166667      0.063728      0.054321\n",
       "Edges inside      4.000000  46064.000000  13497.083333  15459.538714\n",
       "Average Degree    2.000000     72.449791     38.511600     21.401352\n",
       "FOMD              1.000000      1.000000      1.000000      0.000000\n",
       "TPR               0.750000      0.983471      0.937660      0.066053\n",
       "Expansion         0.250000     71.983471     34.797234     25.099734\n",
       "Cut Ratio         0.000039      0.011334      0.005885      0.004003\n",
       "Conductance       0.076923      0.652044      0.377723      0.188813\n",
       "Normalized Cut    0.076927      0.668269      0.411705      0.199131\n",
       "Maximum-ODF       1.000000    848.000000    335.083333    275.131623\n",
       "Average-ODF       0.250000     71.983471     34.797234     25.099734\n",
       "Flake-ODF         0.000000      0.743802      0.291854      0.257345"
      ]
     },
     "execution_count": 24,
     "metadata": {},
     "output_type": "execute_result"
    }
   ],
   "source": [
    "res['Indexes']"
   ]
  },
  {
   "cell_type": "code",
   "execution_count": 25,
   "metadata": {},
   "outputs": [
    {
     "data": {
      "text/html": [
       "<div>\n",
       "<style scoped>\n",
       "    .dataframe tbody tr th:only-of-type {\n",
       "        vertical-align: middle;\n",
       "    }\n",
       "\n",
       "    .dataframe tbody tr th {\n",
       "        vertical-align: top;\n",
       "    }\n",
       "\n",
       "    .dataframe thead th {\n",
       "        text-align: right;\n",
       "    }\n",
       "</style>\n",
       "<table border=\"1\" class=\"dataframe\">\n",
       "  <thead>\n",
       "    <tr style=\"text-align: right;\">\n",
       "      <th></th>\n",
       "      <th>value</th>\n",
       "    </tr>\n",
       "    <tr>\n",
       "      <th>Index</th>\n",
       "      <th></th>\n",
       "    </tr>\n",
       "  </thead>\n",
       "  <tbody>\n",
       "    <tr>\n",
       "      <th>Modularity (no overlap)</th>\n",
       "      <td>0.427814</td>\n",
       "    </tr>\n",
       "  </tbody>\n",
       "</table>\n",
       "</div>"
      ],
      "text/plain": [
       "                            value\n",
       "Index                            \n",
       "Modularity (no overlap)  0.427814"
      ]
     },
     "execution_count": 25,
     "metadata": {},
     "output_type": "execute_result"
    }
   ],
   "source": [
    "\n",
    "res['Modularity']"
   ]
  },
  {
   "cell_type": "code",
   "execution_count": null,
   "metadata": {},
   "outputs": [],
   "source": []
  }
 ],
 "metadata": {
  "kernelspec": {
   "display_name": "Python 2",
   "language": "python",
   "name": "python2"
  },
  "language_info": {
   "codemirror_mode": {
    "name": "ipython",
    "version": 2
   },
   "file_extension": ".py",
   "mimetype": "text/x-python",
   "name": "python",
   "nbconvert_exporter": "python",
   "pygments_lexer": "ipython2",
   "version": "2.7.15"
  }
 },
 "nbformat": 4,
 "nbformat_minor": 2
}

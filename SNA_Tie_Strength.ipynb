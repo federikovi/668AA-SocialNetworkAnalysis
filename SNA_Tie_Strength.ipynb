{
 "cells": [
  {
   "cell_type": "markdown",
   "metadata": {},
   "source": [
    "## Tie Strength"
   ]
  },
  {
   "cell_type": "markdown",
   "metadata": {},
   "source": [
    "The task of this section is to study the _resilience_ of the network by analysing the impact of strong and weak ties on the connectivity of the network itself.\n",
    "\n",
    "In more detail, the edges have been sorted from the strongest to the weakest. Then the 50000 first strongest ties have been removed. The same procedure has been repeated for the 50000 weakest and the results have been compared in order to study the resilience of the network in terms of connected components remaining.\n",
    "\n",
    "The strength measure used for the edges is the overlap coefficient:\n",
    "\n",
    "$ Overlapping coefficient i,j = 𝑁 𝑖 ∩ 𝑁(𝑗) /𝑁 𝑖 ∪ 𝑁(𝑗) $\n",
    "\n",
    "For each edge:\n",
    "\n",
    "𝑁 𝑖 ∩ 𝑁(𝑗) = number of neighbor nodes to i and j\n",
    "𝑁 𝑖 ∪ 𝑁(𝑗) = number of neighbor nodes to i or j\n",
    "\n",
    "Notice that when the strength of the tie increases, the overlapping coefficient increases as well.\n",
    "\n",
    "Impact of the strong and weak ties rimotion on the network\n",
    "\n",
    "On the x axis there are the number of removed edges, while on the y axis the number of connected components that the network is losing.\n",
    "It emerges that removing from the weak to the strong ties, the network breaks apart faster\n",
    "\n",
    "È possibile notare come procedendo in ordine crescente, cioè da weak a strong ties, la\n",
    "rete si disgrega più velocemente: dopo soli 10000 archi eliminati, la rete risulta\n",
    "scomposta in più di 400 componenti.\n",
    "Si confronti la situazione risultante dopo l’eliminazione dello stesso numero di archi,\n",
    "ma procedendo in ordine inverso, cioè da strong a weak ties: la rete non risulta essersi\n",
    "distrutta, ma continua ad esistere un’unica componente."
   ]
  },
  {
   "cell_type": "code",
   "execution_count": 4,
   "metadata": {},
   "outputs": [],
   "source": [
    "import sys\n",
    "import codecs\n",
    "import copy\n",
    "import networkx as nx\n",
    "import numpy as np\n",
    "import matplotlib.pyplot as plt\n",
    "import time"
   ]
  },
  {
   "cell_type": "code",
   "execution_count": 5,
   "metadata": {},
   "outputs": [],
   "source": [
    "n=open(\"network.csv\", 'rb')\n",
    "net = nx.read_edgelist(\"network.csv\",create_using=nx.Graph())\n",
    "n.close()"
   ]
  },
  {
   "cell_type": "code",
   "execution_count": 6,
   "metadata": {},
   "outputs": [
    {
     "name": "stdout",
     "output_type": "stream",
     "text": [
      "Wall time: 0 ns\n"
     ]
    }
   ],
   "source": [
    "%%time\n",
    "def components_stats(overlapping_coefficents, net):\n",
    "    print ('computing number of components...')\n",
    "    number_of_components = []\n",
    "    for n1, n2, _ in overlapping_coefficents:\n",
    "        number_of_components.append(nx.number_connected_components(net))\n",
    "        net.remove_edge(n1, n2)\n",
    "    return number_of_components"
   ]
  },
  {
   "cell_type": "code",
   "execution_count": 7,
   "metadata": {},
   "outputs": [
    {
     "name": "stdout",
     "output_type": "stream",
     "text": [
      "Wall time: 0 ns\n"
     ]
    }
   ],
   "source": [
    "%%time\n",
    "def tie_strenght(file_input):\n",
    "    # reads from file and building the network\n",
    "    net = nx.Graph()\n",
    "    print ('reading network...')\n",
    "    with codecs.open(file_input, 'r', 'utf-8') as f:\n",
    "        for line in f:\n",
    "            line = line.strip().split(' ')\n",
    "            net.add_edge(line[0], line[1])"
   ]
  },
  {
   "cell_type": "code",
   "execution_count": 8,
   "metadata": {},
   "outputs": [
    {
     "name": "stdout",
     "output_type": "stream",
     "text": [
      "computing overlapping coefficents...\n",
      "Wall time: 1min 5s\n"
     ]
    }
   ],
   "source": [
    "%%time\n",
    "print ('computing overlapping coefficents...')\n",
    "overlapping_coefficents = []\n",
    "for n1, n2 in net.edges():\n",
    "    overlapping_coefficents.append((n1, n2, len(list(nx.common_neighbors(net, n1, n2)))))\n"
   ]
  },
  {
   "cell_type": "code",
   "execution_count": 9,
   "metadata": {},
   "outputs": [
    {
     "name": "stdout",
     "output_type": "stream",
     "text": [
      "saving a copy of the network..\n",
      "Wall time: 937 ms\n"
     ]
    }
   ],
   "source": [
    "%%time\n",
    "overlapping_coefficents = sorted(overlapping_coefficents, key=lambda tup: tup[2])\n",
    "\n",
    "print ('saving a copy of the network..')\n",
    "net_copy = net.copy()"
   ]
  },
  {
   "cell_type": "code",
   "execution_count": 10,
   "metadata": {},
   "outputs": [
    {
     "name": "stdout",
     "output_type": "stream",
     "text": [
      "removing nodes in increasing order by common_neighbors\n",
      "computing number of components...\n",
      "Wall time: 41min 22s\n"
     ]
    }
   ],
   "source": [
    "%%time\n",
    "print ('removing nodes in increasing order by common_neighbors')\n",
    "number_of_components_increasing = components_stats(overlapping_coefficents[:50000], net)"
   ]
  },
  {
   "cell_type": "code",
   "execution_count": 12,
   "metadata": {},
   "outputs": [
    {
     "name": "stdout",
     "output_type": "stream",
     "text": [
      "removing nodes in decreasing order by common_neighbors\n",
      "computing number of components...\n",
      "Wall time: 30min 58s\n"
     ]
    }
   ],
   "source": [
    "%%time\n",
    "print ('removing nodes in decreasing order by common_neighbors')\n",
    "number_of_components_decreasing = components_stats(reversed(overlapping_coefficents[:50000]), net_copy)\n"
   ]
  },
  {
   "cell_type": "markdown",
   "metadata": {},
   "source": [
    "## Plotting results"
   ]
  },
  {
   "cell_type": "code",
   "execution_count": 19,
   "metadata": {},
   "outputs": [
    {
     "data": {
      "image/png": "[encoded data removed]",
      "text/plain": [
       "<matplotlib.figure.Figure at 0x1bc82348048>"
      ]
     },
     "metadata": {},
     "output_type": "display_data"
    }
   ],
   "source": [
    "plt.ylabel('Number of components')\n",
    "plt.xlabel('Number of deleted links')\n",
    "plt.title('Tie Strength')\n",
    "plt.plot(number_of_components_increasing, label=\"Increasing order\")\n",
    "plt.plot(number_of_components_decreasing, label=\"Decreasing order\")\n",
    "plt.legend()\n",
    "plt.savefig('tie_strength.png', format='png')\n",
    "plt.show()"
   ]
  },
  {
   "cell_type": "code",
   "execution_count": null,
   "metadata": {
    "collapsed": true
   },
   "outputs": [],
   "source": []
  }
 ],
 "metadata": {
  "kernelspec": {
   "display_name": "Python 3",
   "language": "python",
   "name": "python3"
  },
  "language_info": {
   "codemirror_mode": {
    "name": "ipython",
    "version": 3
   },
   "file_extension": ".py",
   "mimetype": "text/x-python",
   "name": "python",
   "nbconvert_exporter": "python",
   "pygments_lexer": "ipython3",
   "version": "3.6.4"
  }
 },
 "nbformat": 4,
 "nbformat_minor": 2
}

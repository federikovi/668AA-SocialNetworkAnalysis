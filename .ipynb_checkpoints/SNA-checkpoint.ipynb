{
 "cells": [
  {
   "cell_type": "markdown",
   "metadata": {},
   "source": [
    "## Import"
   ]
  },
  {
   "cell_type": "code",
   "execution_count": 31,
   "metadata": {},
   "outputs": [],
   "source": [
    "import networkx as nx\n",
    "import codecs\n",
    "import random\n",
    "import matplotlib.pyplot as plt\n",
    "import operator\n",
    "import time\n",
    "from collections import Counter"
   ]
  },
  {
   "cell_type": "markdown",
   "metadata": {},
   "source": [
    "# Generazione BA Graph"
   ]
  },
  {
   "cell_type": "code",
   "execution_count": 4,
   "metadata": {
    "scrolled": true
   },
   "outputs": [
    {
     "name": "stdout",
     "output_type": "stream",
     "text": [
      "random number:\n",
      "102\n",
      "n nodi: \n",
      "6472\n",
      "n archi:\n",
      "649740\n"
     ]
    }
   ],
   "source": [
    "\n",
    "fh=open(\"network.csv\", 'rb')\n",
    "net = nx.read_edgelist(\"network.csv\",create_using=nx.Graph())\n",
    "fh.close()\n",
    "random_number = random.randint(1,len(net.nodes()))\n",
    "print (\"random number:\\n\"+n)\n",
    "\n",
    "\n",
    "ba_net = nx.barabasi_albert_graph(len(net.nodes()), random_number)\n",
    "\n",
    "nx.write_edgelist(ba_net, \"ba_net.csv\", data=False)\n",
    "\n",
    "print (\"n nodi:\")\n",
    "print (len(ba_net))\n",
    "print (\"n archi:\")\n",
    "print (ba_net.number_of_edges())"
   ]
  },
  {
   "cell_type": "markdown",
   "metadata": {},
   "source": [
    "# Generazione random graph"
   ]
  },
  {
   "cell_type": "code",
   "execution_count": 6,
   "metadata": {},
   "outputs": [
    {
     "name": "stdout",
     "output_type": "stream",
     "text": [
      "n nodi:\n",
      "6472\n",
      "\n",
      "n archi:\n",
      "266378\n"
     ]
    }
   ],
   "source": [
    "random_net = nx.gnm_random_graph(len(net.nodes()), len(net.edges()))\n",
    "\n",
    "nx.write_edgelist(random_net, \"random_net.csv\", data=False)\n",
    "\n",
    "print (\"n nodi:\")\n",
    "print (len(random_net))\n",
    "print (\"\\nn archi:\")\n",
    "print (random_net.number_of_edges())"
   ]
  },
  {
   "cell_type": "markdown",
   "metadata": {},
   "source": [
    "## Lettura network"
   ]
  },
  {
   "cell_type": "code",
   "execution_count": 32,
   "metadata": {},
   "outputs": [],
   "source": [
    "fh=open(\"network.csv\", 'rb')\n",
    "net = nx.read_edgelist(\"network.csv\",create_using=nx.Graph())\n",
    "fh.close()\n",
    "\n",
    "e=open(\"random_net.csv\", 'rb')\n",
    "e_net = nx.read_edgelist(\"random_net.csv\",create_using=nx.Graph())\n",
    "e.close()\n",
    "\n",
    "b=open(\"ba_net.csv\", 'rb')\n",
    "b_net = nx.read_edgelist(\"ba_net.csv\",create_using=nx.Graph())\n",
    "b.close()\n"
   ]
  },
  {
   "cell_type": "markdown",
   "metadata": {},
   "source": [
    "# Degree distribution"
   ]
  },
  {
   "cell_type": "code",
   "execution_count": 21,
   "metadata": {},
   "outputs": [
    {
     "data": {
      "image/png": "[encoded data removed]",
      "text/plain": [
       "<matplotlib.figure.Figure at 0x197d6e98710>"
      ]
     },
     "metadata": {},
     "output_type": "display_data"
    }
   ],
   "source": [
    "\n",
    "\n",
    "def degree_distribution(net):\n",
    "\tdistribution = nx.degree_histogram(net)\n",
    "\tfor i, value in enumerate(distribution):\n",
    "\t\tdistribution[i] = (float(value)/float(len(net.nodes())))\n",
    "\n",
    "\treturn distribution[1:]\n",
    "\n",
    "\n",
    "def distributions_plotting(net, random_net, b_net): #, random_net\n",
    "\tdistribution_net = degree_distribution(net)\n",
    "\tdistribution_random_net = degree_distribution(random_net)\n",
    "\tdistribution_ba_net = degree_distribution(b_net)\n",
    "\tplt.loglog(distribution_net, label='FB net', color='b')\n",
    "\tplt.loglog(distribution_random_net, label='Random net', color='r')\n",
    "\tplt.loglog(distribution_ba_net, label='Ba net', color='g')\n",
    "\tplt.legend()\n",
    "\tplt.ylabel('p(k)')\n",
    "\tplt.xlabel('k')\n",
    "\tplt.savefig('degree_distribution.png', format='png')\n",
    "\tplt.show()\n",
    "\tplt.close()\n",
    "\n",
    "\n",
    "\n",
    "\n",
    "\n",
    "distributions_plotting(net, e_net, b_net)\n"
   ]
  },
  {
   "cell_type": "markdown",
   "metadata": {},
   "source": [
    "## Connected components"
   ]
  },
  {
   "cell_type": "code",
   "execution_count": 16,
   "metadata": {},
   "outputs": [
    {
     "name": "stdout",
     "output_type": "stream",
     "text": [
      "Connected components: \n",
      "Original network: 1\n",
      "ER network: 1\n",
      "BA network: 1\n"
     ]
    }
   ],
   "source": [
    "print(\"Connected components: \")\n",
    "print(\"Original network: \"+str(nx.number_connected_components(net)))\n",
    "print(\"ER network: \" +str(nx.number_connected_components(e_net)))\n",
    "print(\"BA network: \" +str(nx.number_connected_components(b_net)))"
   ]
  },
  {
   "cell_type": "markdown",
   "metadata": {},
   "source": [
    "## Average Shortest Paths"
   ]
  },
  {
   "cell_type": "code",
   "execution_count": 8,
   "metadata": {},
   "outputs": [
    {
     "name": "stdout",
     "output_type": "stream",
     "text": [
      "Average shortest paths:\n",
      "\n",
      "Real network: 2.60508718273159\n",
      "ER network: 2.3337271699408544\n",
      "BA network: 1.9782535526478409\n"
     ]
    }
   ],
   "source": [
    "print(\"Average shortest paths:\\n\")\n",
    "\n",
    "\n",
    "net_path = nx.average_shortest_path_length(net)\n",
    "\n",
    "print(\"Real network: \"+str(net_path))\n",
    "\n",
    "er_path = nx.average_shortest_path_length(e_net)\n",
    "\n",
    "print(\"ER network: \"+str(er_path))\n",
    "\n",
    "ba_path = nx.average_shortest_path_length(b_net)\n",
    "\n",
    "print(\"BA network:\" +str(ba_path))"
   ]
  },
  {
   "cell_type": "markdown",
   "metadata": {},
   "source": [
    "## Clustering coefficients"
   ]
  },
  {
   "cell_type": "code",
   "execution_count": 36,
   "metadata": {},
   "outputs": [
    {
     "name": "stdout",
     "output_type": "stream",
     "text": [
      "FB network average cluster coefficient: 0.2536135569835697\n",
      "\n",
      "Random network average cluster coefficient: 0.012708472729686632\n",
      "\n",
      "Barabasi Albert network average cluster coefficient: 0.07904584337205917\n",
      "\n"
     ]
    }
   ],
   "source": [
    "net_cc = nx.average_clustering(net)\n",
    "print('FB network average cluster coefficient: ' + str(net_cc) + '\\n')\n",
    "e_net_cc = nx.average_clustering(e_net)\n",
    "print('Random network average cluster coefficient: ' + str(e_net_cc) + '\\n')\n",
    "ba_net_cc = nx.average_clustering(b_net)\n",
    "print('Barabasi Albert network average cluster coefficient: ' + str(ba_net_cc) + '\\n')"
   ]
  },
  {
   "cell_type": "markdown",
   "metadata": {},
   "source": [
    "# Densità"
   ]
  },
  {
   "cell_type": "code",
   "execution_count": 12,
   "metadata": {},
   "outputs": [
    {
     "name": "stdout",
     "output_type": "stream",
     "text": [
      "Densities: \n",
      "Original network: 0.012720917647413897\n",
      "ER network: 0.012720917647413897\n",
      "BA network: 0.031028422137829345\n"
     ]
    }
   ],
   "source": [
    "print(\"Densities: \")\n",
    "\n",
    "net_cc = nx.density(net)\n",
    "print(\"Original network: \"+str(net_cc))\n",
    "e_net_cc = nx.density(e_net)\n",
    "print(\"ER network: \"+str(e_net_cc))\n",
    "ba_net_cc = nx.density(b_net)\n",
    "print(\"BA network: \"+str(ba_net_cc))\n",
    "\n"
   ]
  },
  {
   "cell_type": "markdown",
   "metadata": {},
   "source": [
    "## Degree Centrality"
   ]
  },
  {
   "cell_type": "code",
   "execution_count": 33,
   "metadata": {},
   "outputs": [],
   "source": [
    "net_dc = nx.degree_centrality(net)\n",
    "\n",
    "e_net_dc = nx.degree_centrality(e_net)\n",
    "\n",
    "b_net_dc = nx.degree_centrality(b_net)\n",
    "\n",
    "\n",
    "net_dc = sorted(net_dc.items(), key=operator.itemgetter(1))\n",
    "net_dc = [i[1] for i in net_dc]\n",
    "\n",
    "\n",
    "e_net_dc = sorted(e_net_dc.items(), key=operator.itemgetter(1))\n",
    "e_net_dc = [i[1] for i in e_net_dc]\n",
    "\n",
    "\n",
    "b_net_dc = sorted(b_net_dc.items(), key=operator.itemgetter(1))\n",
    "b_net_dc = [i[1] for i in b_net_dc]\n",
    "\n",
    "\n"
   ]
  },
  {
   "cell_type": "code",
   "execution_count": 34,
   "metadata": {},
   "outputs": [
    {
     "data": {
      "image/png": "[encoded data removed]",
      "text/plain": [
       "<matplotlib.figure.Figure at 0x1d95cab6358>"
      ]
     },
     "metadata": {},
     "output_type": "display_data"
    }
   ],
   "source": [
    "plt.plot(net_dc, label='FB net', color='b')\n",
    "plt.plot(e_net_dc, label='Random net', color='r')\n",
    "plt.plot(b_net_dc, label='BA net', color='g')\n",
    "plt.legend()\n",
    "plt.title('Degree Centrality')\n",
    "plt.ylabel('centrality')\n",
    "plt.xlabel('rank')\n",
    "plt.savefig('degree_centrality.png', format='png')\n",
    "plt.show()\n",
    "plt.close()\n"
   ]
  },
  {
   "cell_type": "markdown",
   "metadata": {},
   "source": [
    "## Closeness Centrality"
   ]
  },
  {
   "cell_type": "code",
   "execution_count": 29,
   "metadata": {},
   "outputs": [
    {
     "data": {
      "image/png": "[encoded data removed]",
      "text/plain": [
       "<matplotlib.figure.Figure at 0x1d9551184a8>"
      ]
     },
     "metadata": {},
     "output_type": "display_data"
    },
    {
     "data": {
      "text/plain": [
       "\"net_cl = nx.closeness_centrality(net)\\n\\ne_net_cl = nx.closeness_centrality(e_net)\\n\\nb_net_cl = nx.closeness_centrality(b_net)\\n\\n\\nnet_cl = sorted(net_cl.items(), key=operator.itemgetter(1))\\nnet_cl = [i[1] for i in net_cl]\\n\\ne_net_cl = sorted(e_net_cl.items(), key=operator.itemgetter(1))\\ne_net_cl = [i[1] for i in e_net_cl]\\n\\n\\nb_net_cl = sorted(b_net_cl.items(), key=operator.itemgetter(1))\\nb_net_cl = [i[1] for i in b_net_cl]\\n\\n\\nplt.plot(net_cl, label='FB net', color='b')\\nplt.plot(e_net_cl, label='Random net', color='r')\\nplt.plot(b_net_cl, label='BA net', color='g')\\nplt.legend()\\nplt.ylabel('centrality')\\nplt.xlabel('rank')\\nplt.savefig('closeness_centrality.png', format='png')\\nplt.show()\\nplt.close()\""
      ]
     },
     "execution_count": 29,
     "metadata": {},
     "output_type": "execute_result"
    }
   ],
   "source": [
    "net_cl = nx.closeness_centrality(net)\n",
    "\n",
    "e_net_cl = nx.closeness_centrality(e_net)\n",
    "\n",
    "b_net_cl = nx.closeness_centrality(b_net)\n",
    "\n",
    "\n",
    "net_cl = sorted(net_cl.items(), key=operator.itemgetter(1))\n",
    "net_cl = [i[1] for i in net_cl]\n",
    "\n",
    "e_net_cl = sorted(e_net_cl.items(), key=operator.itemgetter(1))\n",
    "e_net_cl = [i[1] for i in e_net_cl]\n",
    "\n",
    "\n",
    "b_net_cl = sorted(b_net_cl.items(), key=operator.itemgetter(1))\n",
    "b_net_cl = [i[1] for i in b_net_cl]\n",
    "\n",
    "\n",
    "plt.plot(net_cl, label='FB net', color='b')\n",
    "plt.plot(e_net_cl, label='Random net', color='r')\n",
    "plt.plot(b_net_cl, label='BA net', color='g')\n",
    "plt.legend()\n",
    "plt.ylabel('centrality')\n",
    "plt.xlabel('rank')\n",
    "plt.savefig('closeness_centrality.png', format='png')\n",
    "plt.show()\n",
    "plt.close()\n",
    "\n"
   ]
  },
  {
   "cell_type": "markdown",
   "metadata": {},
   "source": [
    "## Betweenness Centrality"
   ]
  },
  {
   "cell_type": "code",
   "execution_count": null,
   "metadata": {},
   "outputs": [],
   "source": [
    "net_bc = nx.betweenness_centrality(net)\n",
    "e_net_bc = nx.betweenness_centrality(e_net)\n",
    "b_net_bc = nx.betweenness_centrality(b_net)\n",
    "\n",
    "net_bc = sorted(net_bc.items(), key=operator.itemgetter(1))\n",
    "net_bc = [i[1] for i in net_bc]\n",
    "\n",
    "\n",
    "e_net_bc = sorted(e_net_bc.items(), key=operator.itemgetter(1))\n",
    "e_net_bc = [i[1] for i in e_net_bc]\n",
    "\n",
    "b_net_bc = sorted(b_net_bc.items(), key=operator.itemgetter(1))\n",
    "b_net_bc = [i[1] for i in b_net_bc]\n",
    "\n",
    "\n",
    "plt.plot(net_bc, label='FB net', color='b')\n",
    "plt.plot(e_net_bc, label='Random net', color='r')\n",
    "plt.plot(b_net_bc, label='Random net', color='g')\n",
    "plt.legend()\n",
    "plt.ylabel('centrality')\n",
    "plt.xlabel('rank')\n",
    "plt.savefig('betweenness_centrality.png', format='png')\n",
    "plt.show()\n",
    "plt.close()"
   ]
  },
  {
   "cell_type": "code",
   "execution_count": null,
   "metadata": {},
   "outputs": [],
   "source": [
    "Clustering Coefficients"
   ]
  }
 ],
 "metadata": {
  "kernelspec": {
   "display_name": "Python 3",
   "language": "python",
   "name": "python3"
  },
  "language_info": {
   "codemirror_mode": {
    "name": "ipython",
    "version": 3
   },
   "file_extension": ".py",
   "mimetype": "text/x-python",
   "name": "python",
   "nbconvert_exporter": "python",
   "pygments_lexer": "ipython3",
   "version": "3.6.3"
  },
  "latex_envs": {
   "LaTeX_envs_menu_present": true,
   "autoclose": false,
   "autocomplete": true,
   "bibliofile": "biblio.bib",
   "cite_by": "apalike",
   "current_citInitial": 1,
   "eqLabelWithNumbers": true,
   "eqNumInitial": 1,
   "hotkeys": {
    "equation": "Ctrl-E",
    "itemize": "Ctrl-I"
   },
   "labels_anchors": false,
   "latex_user_defs": false,
   "report_style_numbering": false,
   "user_envs_cfg": false
  }
 },
 "nbformat": 4,
 "nbformat_minor": 2
}
